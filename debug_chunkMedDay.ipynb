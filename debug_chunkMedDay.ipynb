{
 "cells": [
  {
   "cell_type": "markdown",
   "id": "7931a981",
   "metadata": {},
   "source": [
    "## Generalize MedDay Program"
   ]
  },
  {
   "cell_type": "code",
   "execution_count": 64,
   "id": "c7a0691e",
   "metadata": {},
   "outputs": [],
   "source": [
    "import os\n",
    "import math\n",
    "\n",
    "numFiles = 3\n",
    "\n",
    "#path_comm = os.getenv('DATACOMM')\n",
    "#path_csv = os.getenv('DATACSV')\n",
    "#path_szn = os.getenv('DATAMEDDAY')\n",
    "#print(path_csv)"
   ]
  },
  {
   "cell_type": "code",
   "execution_count": 65,
   "id": "35a97423",
   "metadata": {},
   "outputs": [
    {
     "name": "stdout",
     "output_type": "stream",
     "text": [
      "C:\\Users\\Alexis Garduno\\Dropbox\\WHI_RAR_Accelerometry\\DATACSV\n"
     ]
    }
   ],
   "source": [
    "path_comm = r\"C:\\Users\\Alexis Garduno\\Dropbox\\WHI_RAR_Accelerometry\\Commands\"\n",
    "path_csv = r\"C:\\Users\\Alexis Garduno\\Dropbox\\WHI_RAR_Accelerometry\\DATACSV\"\n",
    "path_szn = r\"C:\\Users\\Alexis Garduno\\Dropbox\\WHI_RAR_Accelerometry\\Data\\MedDay\"\n",
    "print(path_csv)"
   ]
  },
  {
   "cell_type": "code",
   "execution_count": 66,
   "id": "c317d041",
   "metadata": {},
   "outputs": [
    {
     "name": "stdout",
     "output_type": "stream",
     "text": [
      "['P10001_15sec.csv', 'P10002_15sec.csv', 'P10003_15sec.csv']\n",
      "C:\\Users\\Alexis Garduno\\Dropbox\\WHI_RAR_Accelerometry\\Data\\MedDay\n"
     ]
    }
   ],
   "source": [
    "csv_fn = os.listdir(path_csv)\n",
    "print(csv_fn)\n",
    "medday_fn = os.listdir(path_szn)\n",
    "print(path_szn)"
   ]
  },
  {
   "cell_type": "code",
   "execution_count": 67,
   "id": "b77917fa",
   "metadata": {},
   "outputs": [
    {
     "data": {
      "text/plain": [
       "['P10001_15sec', 'P10002_15sec', 'P10003_15sec']"
      ]
     },
     "execution_count": 67,
     "metadata": {},
     "output_type": "execute_result"
    }
   ],
   "source": [
    "#edit the file name to truncate the filename\n",
    "csv = [file[:-4] for file in csv_fn if file[-4:]=='.csv']\n",
    "csv"
   ]
  },
  {
   "cell_type": "code",
   "execution_count": 68,
   "id": "8c3b774d",
   "metadata": {},
   "outputs": [
    {
     "name": "stdout",
     "output_type": "stream",
     "text": [
      "['P10001_15sec-timeSeries.csv', 'P10002_15sec-timeSeries.csv', 'P10003_15sec-timeSeries.csv']\n",
      "3\n"
     ]
    }
   ],
   "source": [
    "csv = [file[:-4] for file in csv_fn if file[-4:]=='.csv']\n",
    "medday = [file[:-4] for file in medday_fn if file[-4:]=='.csv']\n",
    "\n",
    "new_cmds = [line + \"-timeSeries.csv\" for line in csv if line not in medday]\n",
    "print(new_cmds)\n",
    "\n",
    "numLines = len(new_cmds)\n",
    "print(numLines)\n",
    "if numLines > 0:\n",
    "    if numLines < numFiles:\n",
    "        numFiles = numLines\n",
    "    chunkLines = math.ceil(numLines/numFiles)\n",
    "    if chunkLines>1:\n",
    "        for i in range (numFiles):\n",
    "            if i == 0:\n",
    "                ln = new_cmds[i*chunkLines:(i+1)*chunkLines]\n",
    "            else:\n",
    "                ln = new_cmds[(i*chunkLines)+1:(i+1)*chunkLines]\n",
    "            file_ext = 'inputMedDay_' + str(i) + '.txt'\n",
    "            filename = os.path.join(path_comm, file_ext) \n",
    "            f = open(filename, 'w')\n",
    "            f.writelines( \"%s\\n\" % item for item in ln )\n",
    "            f.close()\n",
    "    else:            \n",
    "        for i in range (numFiles):\n",
    "            ln = new_cmds[i]\n",
    "            file_ext = 'inputMedDay_' + str(i) + '.txt'\n",
    "            filename = os.path.join(path_comm, file_ext) \n",
    "            f = open(filename, 'w')\n",
    "            f.writelines( ln )\n",
    "            f.close()"
   ]
  },
  {
   "cell_type": "code",
   "execution_count": null,
   "id": "82ddcf83",
   "metadata": {},
   "outputs": [],
   "source": []
  }
 ],
 "metadata": {
  "kernelspec": {
   "display_name": "Python 3 (ipykernel)",
   "language": "python",
   "name": "python3"
  },
  "language_info": {
   "codemirror_mode": {
    "name": "ipython",
    "version": 3
   },
   "file_extension": ".py",
   "mimetype": "text/x-python",
   "name": "python",
   "nbconvert_exporter": "python",
   "pygments_lexer": "ipython3",
   "version": "3.9.7"
  }
 },
 "nbformat": 4,
 "nbformat_minor": 5
}
